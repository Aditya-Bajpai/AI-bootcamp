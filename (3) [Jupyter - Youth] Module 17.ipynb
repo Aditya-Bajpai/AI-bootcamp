{
 "cells": [
  {
   "cell_type": "markdown",
   "metadata": {
    "id": "hgNUtQuM7t-A"
   },
   "source": [
    "# Artificial Neural Networks"
   ]
  },
  {
   "cell_type": "markdown",
   "metadata": {
    "id": "uVIhx26A7t-H"
   },
   "source": [
    "Have you ever wondered how we process and learn information? For example, how does our body process information such that we are able to move our hands or legs? To put it simply, the brain will process information and then send out signals to the rest of the body to trigger certain muscle movements. These signals are transported through the nervous system. One of the main components of the nervous system are neuron cells. These cells work on a threshold basis which means that the signal will only be transferred from cells to cells if it is higher than a certain value or amount. As such, when we decide to move our hands, the signals from the brain will get transferred to the muscle in our hands and not the muscle in our legs.\n",
    "\n",
    "### Training Artificial Neural Networks\n",
    "However, this only explains how we process information. How about the ability of humans to learn? For example, why do we know to stop at a red light or how to kick a ball? It is because we were trained to do so by looking at examples or how other people were doing it. Through these examples, we were able to learn and remember.\n",
    "\n",
    "Would it be great if computers were able to mimic the way humans process and learn information? With artificial neural network, this can be done! Artificial neural networks are able to process and 'learn' complex relationships within datasets. An illustration of a simple neural network is shown below.\n",
    "\n",
    "The basic idea is that we input data into the input layer. Data will be processed in the subsequent hidden layer(s) - we only show one hidden layer on the picture below, but it can be many layers. Each layer is made of multiple artificial neurons which apply functions to the data and pass it on to another hidden layer, finally ending with the output layer. "
   ]
  },
  {
   "cell_type": "markdown",
   "metadata": {
    "id": "6s_H3sG77t-L"
   },
   "source": [
    "<img src = \"./resources/ANN.jpg\">"
   ]
  },
  {
   "cell_type": "markdown",
   "metadata": {
    "id": "5ZGH3yig7t-M"
   },
   "source": [
    "The illustration above shows a simple neural network with 1 input layer, 1 hidden layer (in between an input layer and an output layer) and 1 output layer. Each circle represent 1 node or 1 neuron. We usually do not discuss the number of nodes at the input layer within the model architecture as the input layer is just the data that is being passed to the model. Thus, the hidden layer has 4 nodes/neurons and the output layer has 1 node/neuron. \n",
    "\n",
    "The output layer will show the results of the neural network."
   ]
  },
  {
   "cell_type": "markdown",
   "metadata": {
    "id": "icrV19137t-O"
   },
   "source": [
    "How does the neural network work? How can they be useful for machine learning project? Watch this [video](https://www.youtube.com/watch?v=aircAruvnKk) to find out more about artificial neural networks. Pause the video and take time to try and understand how the neural network works. Note down any interesting information on neural networks on your worksheet. Are you also able to draw out the network (similar to the illustration above) if the network has 1 input layer with 5 nodes, 2 hidden layers with 3 nodes each and 1 output layer with 2 nodes?"
   ]
  },
  {
   "cell_type": "code",
   "execution_count": 1,
   "metadata": {
    "id": "8jo2YhbF7t-O"
   },
   "outputs": [],
   "source": [
    "# your answer here"
   ]
  },
  {
   "cell_type": "markdown",
   "metadata": {
    "id": "itWJXfbT7t-P"
   },
   "source": [
    "# Training the neural network"
   ]
  },
  {
   "cell_type": "markdown",
   "metadata": {
    "id": "8ygyiJHB7t-Q"
   },
   "source": [
    "After understanding the different features of an artificial neural network, one question that still remains is how does the network \"learn\"?\n",
    "\n",
    "Take for example a young basketball player who is learning to shoot a 3-point shot. If he shoots and he misses because the shot is too short, the basketball player will adjust and increase the strength of the next shot. If the next shot now is too far right of the basket, the player will again adjust his shot to shoot more towards the center. The player continues to do this until the shot is made. The player then remembers the exact strength and shot direction when shooting 3-point shots in future.\n",
    "\n",
    "This is similar to how neural networks are trained. First, the data is passed through the network and a predicted output is given. This is known as a forward propagation. The predicted output is then compared to the actual output of the data and the differences between the predicted and actual will be passed backwards through the model. During the backward pass, adjustments will be made within the model such that the differences between prediction output and actual output will be reduced. This is known as the backpropagation. After the adjustments are made, data will be passed through from the input layer again and another predicted output will be made. The new predicted output will be compared to the actual output again and the differences will be passed backwards through the model. More adjustments will be made within the model.\n",
    "\n",
    "The process of forward propagation and backpropagation will be repeated until the differences between predicted output and the actual output are minimised. The model is now trained and can be used for prediction of other similar datasets."
   ]
  },
  {
   "cell_type": "markdown",
   "metadata": {
    "id": "VLCyNzMI7t-R"
   },
   "source": [
    "Can you think of another example in your life that is similar to the way the neural networks are trained?"
   ]
  },
  {
   "cell_type": "code",
   "execution_count": 2,
   "metadata": {
    "id": "fO1fMKwM7t-S"
   },
   "outputs": [],
   "source": [
    "# your answer here"
   ]
  },
  {
   "cell_type": "markdown",
   "metadata": {
    "id": "KudeDXu97t-T"
   },
   "source": [
    "Here is another example to help you understand neural networks better. You have been tasked to bake a cake for your father's birthday. You follow the basic cookbook and come up with a basic cake. As you want your cake to be the best cake anyone has eaten, you approach your mother for a taste test. Your mother replies that the cake is too sweet and slightly burnt. Thus, you try and adjust the amount of sugar and also the time the cake spent in the oven. Next, you will then bake another cake with your new recipe and baking time before doing another taste test with your mother. This continues until you get the perfect cake.\n",
    "\n",
    "The first steps to bake the cake are similar to the forward propagation step within the artificial neural network. The taste test is similar to the comparison of a predicted output to the actual output. The adjustment of the amount of sugar and baking time is similar to backpropagation within the neural network. The repetition in the steps are similar to the full training process of the model.\n",
    "\n",
    "To have a better visualisation of how backpropagation works, watch this [video](https://www.youtube.com/watch?v=Ilg3gGewQ5U) and take down any information that interests you."
   ]
  },
  {
   "cell_type": "markdown",
   "metadata": {
    "id": "omCsgjKB7t-T"
   },
   "source": [
    "<font color=blue>Bonus: You are not required to understand the actual adjustments within the model. However, if you are mathematically inclined or really interested in understanding all the adjustments and have time, you can watch the 2 videos listed below. Note down any interesting information in your worksheet or the cell below. </font>\n",
    "- [video 1](https://www.youtube.com/watch?v=IHZwWFHWa-w)\n",
    "- [video 2](https://www.youtube.com/watch?v=tIeHLnjs5U8)"
   ]
  },
  {
   "cell_type": "code",
   "execution_count": 3,
   "metadata": {
    "id": "vd2P6DHf7t-T"
   },
   "outputs": [],
   "source": [
    "# your answer here"
   ]
  },
  {
   "cell_type": "markdown",
   "metadata": {
    "id": "9rDfYOrj7t-U"
   },
   "source": [
    "# Training a neural network with the Iris Flower dataset"
   ]
  },
  {
   "cell_type": "markdown",
   "metadata": {
    "id": "7e0efQf67t-U"
   },
   "source": [
    "Let's try training the neural network using the Iris Flower dataset!\n",
    "\n",
    "## 1. Import required Libraries\n",
    "Firstly, we will import the required libraries: pandas and numpy to provide data structure, and scikit learn to gain access to artificial neural network. "
   ]
  },
  {
   "cell_type": "code",
   "execution_count": 4,
   "metadata": {
    "id": "syFr5UdG7t-V"
   },
   "outputs": [],
   "source": [
    "#your code here\n",
    "import pandas as pd\n",
    "import numpy as np\n",
    "from sklearn.preprocessing import StandardScaler"
   ]
  },
  {
   "cell_type": "markdown",
   "metadata": {
    "id": "0fIJIbcS7t-V"
   },
   "source": [
    "<img src = \"./resources/PetalSepal1.png\">"
   ]
  },
  {
   "cell_type": "markdown",
   "metadata": {
    "id": "d1rVuuSn7t-V"
   },
   "source": [
    "## 2. Obtain and explore dataset\n",
    "\n",
    "Import the Iris Flower dataset as a dataframe df below. \n",
    "The file should be iris.data. \n",
    "\n",
    "Remember to include the headers for all the columns. \n",
    "\n",
    "Refer to the picture (source: https://www.researchgate.net/figure/Trollius-ranunculoide-flower-with-measured-traits_fig6_272514310) above to understand the variables. \n",
    "\n",
    "We'll first explore the data. Do you remember how this is done?\n",
    "1. Open the csv file and put it into a dataframe.\n",
    "2. Include headers\n",
    "3. Use .info() and .describe() to see basic information about the dataset\n",
    "\n",
    "Check for any missing values or erroneous data. Are there any missing data?"
   ]
  },
  {
   "cell_type": "code",
   "execution_count": 5,
   "metadata": {
    "colab": {
     "base_uri": "https://localhost:8080/",
     "height": 246
    },
    "executionInfo": {
     "elapsed": 1066,
     "status": "error",
     "timestamp": 1609841928385,
     "user": {
      "displayName": "Intel AI4Youth",
      "photoUrl": "",
      "userId": "09831253794316492527"
     },
     "user_tz": -330
    },
    "id": "Rhtm_QIJ7t-W",
    "outputId": "c0e71386-7ce5-4a8e-8716-e25323afee50"
   },
   "outputs": [
    {
     "name": "stdout",
     "output_type": "stream",
     "text": [
      "<class 'pandas.core.frame.DataFrame'>\n",
      "RangeIndex: 150 entries, 0 to 149\n",
      "Data columns (total 5 columns):\n",
      " #   Column        Non-Null Count  Dtype  \n",
      "---  ------        --------------  -----  \n",
      " 0   sepal_length  150 non-null    float64\n",
      " 1   sepal_width   150 non-null    float64\n",
      " 2   petal_length  150 non-null    float64\n",
      " 3   petal_width   150 non-null    float64\n",
      " 4   species       150 non-null    object \n",
      "dtypes: float64(4), object(1)\n",
      "memory usage: 6.0+ KB\n",
      "None\n",
      "       sepal_length  sepal_width  petal_length  petal_width\n",
      "count    150.000000   150.000000    150.000000   150.000000\n",
      "mean       5.843333     3.054000      3.758667     1.198667\n",
      "std        0.828066     0.433594      1.764420     0.763161\n",
      "min        4.300000     2.000000      1.000000     0.100000\n",
      "25%        5.100000     2.800000      1.600000     0.300000\n",
      "50%        5.800000     3.000000      4.350000     1.300000\n",
      "75%        6.400000     3.300000      5.100000     1.800000\n",
      "max        7.900000     4.400000      6.900000     2.500000\n"
     ]
    }
   ],
   "source": [
    "#your code here\n",
    "df = pd.read_csv(\"iris.data\",header=None)\n",
    "names = [\"sepal_length\", \"sepal_width\" , \"petal_length\" , \"petal_width\" , \"species\"]\n",
    "df.columns = names\n",
    "print(df.info())\n",
    "print(df.describe())"
   ]
  },
  {
   "cell_type": "markdown",
   "metadata": {
    "id": "r1F0g2Qc7t-W"
   },
   "source": [
    "## 3. Determine features and target values\n",
    "\n",
    "Now, we have to split the datset into the x values (features which the model can learn relationships from) and the y values (target values or expected output from the model). \n",
    "\n",
    "### Standardization\n",
    "We would also have to standardize the dataset. \n",
    "What is standardization for? To understand this, look at the distribution of data above! Notice the different mean and standard deviation. Comparing between these variables will be difficult. Standardization helps us to equalize these various distributions into a common mean and standart deviation, so that we can compare them easily. Refer to the [standardscaler graph here](http://benalexkeen.com/feature-scaling-with-scikit-learn/). See how data changed before and after scaling. \n",
    "\n",
    "\n",
    "This is to allow neural networks to classify easily. The code below will extract out the x values as x_values and also standardise the values. We will extract the y_values later. Run the code below!"
   ]
  },
  {
   "cell_type": "code",
   "execution_count": 6,
   "metadata": {
    "colab": {
     "base_uri": "https://localhost:8080/",
     "height": 246
    },
    "executionInfo": {
     "elapsed": 2748,
     "status": "error",
     "timestamp": 1609839905869,
     "user": {
      "displayName": "Intel AI4Youth",
      "photoUrl": "",
      "userId": "09831253794316492527"
     },
     "user_tz": -330
    },
    "id": "kM_4EE-o7t-X",
    "outputId": "3dbe8226-c98f-4c94-9ec8-76ab5ca7dec8"
   },
   "outputs": [
    {
     "name": "stdout",
     "output_type": "stream",
     "text": [
      "   sepal_length  sepal_width  petal_length  petal_width\n",
      "0           5.1          3.5           1.4          0.2\n",
      "1           4.9          3.0           1.4          0.2\n",
      "2           4.7          3.2           1.3          0.2\n",
      "3           4.6          3.1           1.5          0.2\n",
      "4           5.0          3.6           1.4          0.2\n"
     ]
    }
   ],
   "source": [
    "x_values = df[['sepal_length','sepal_width','petal_length','petal_width']]\n",
    "print(x_values.head())\n",
    "standardise = StandardScaler() # the standardscaler will transform your data such that its distribution will have a mean value 0 and standard deviation of 1\n",
    "x_values = standardise.fit_transform(x_values)\n",
    "x_values_df = pd.DataFrame(x_values)"
   ]
  },
  {
   "cell_type": "markdown",
   "metadata": {
    "id": "1kb2-92s7t-X"
   },
   "source": [
    "Compare this standardized dataset to the original one"
   ]
  },
  {
   "cell_type": "code",
   "execution_count": 7,
   "metadata": {
    "colab": {
     "base_uri": "https://localhost:8080/",
     "height": 172
    },
    "executionInfo": {
     "elapsed": 5129,
     "status": "error",
     "timestamp": 1609839908258,
     "user": {
      "displayName": "Intel AI4Youth",
      "photoUrl": "",
      "userId": "09831253794316492527"
     },
     "user_tz": -330
    },
    "id": "oE-2dD-77t-X",
    "outputId": "b316d278-f8fd-4e92-9110-3ef32487a6c6"
   },
   "outputs": [
    {
     "name": "stdout",
     "output_type": "stream",
     "text": [
      "          0         1         2         3\n",
      "0 -0.900681  1.032057 -1.341272 -1.312977\n",
      "1 -1.143017 -0.124958 -1.341272 -1.312977\n",
      "2 -1.385353  0.337848 -1.398138 -1.312977\n",
      "3 -1.506521  0.106445 -1.284407 -1.312977\n",
      "4 -1.021849  1.263460 -1.341272 -1.312977\n"
     ]
    }
   ],
   "source": [
    "print(x_values_df.head())"
   ]
  },
  {
   "cell_type": "markdown",
   "metadata": {
    "id": "e76wmJF27t-Y"
   },
   "source": [
    "Use the .describe function to find out what is the current mean and std value of the standardized dataset!"
   ]
  },
  {
   "cell_type": "code",
   "execution_count": 8,
   "metadata": {
    "executionInfo": {
     "elapsed": 5117,
     "status": "aborted",
     "timestamp": 1609839908251,
     "user": {
      "displayName": "Intel AI4Youth",
      "photoUrl": "",
      "userId": "09831253794316492527"
     },
     "user_tz": -330
    },
    "id": "HjVjOBIZ7t-Y"
   },
   "outputs": [
    {
     "name": "stdout",
     "output_type": "stream",
     "text": [
      "                  0             1             2             3\n",
      "count  1.500000e+02  1.500000e+02  1.500000e+02  1.500000e+02\n",
      "mean  -2.775558e-16 -5.140333e-16  1.154632e-16  9.251859e-16\n",
      "std    1.003350e+00  1.003350e+00  1.003350e+00  1.003350e+00\n",
      "min   -1.870024e+00 -2.438987e+00 -1.568735e+00 -1.444450e+00\n",
      "25%   -9.006812e-01 -5.877635e-01 -1.227541e+00 -1.181504e+00\n",
      "50%   -5.250608e-02 -1.249576e-01  3.362659e-01  1.332259e-01\n",
      "75%    6.745011e-01  5.692513e-01  7.627586e-01  7.905908e-01\n",
      "max    2.492019e+00  3.114684e+00  1.786341e+00  1.710902e+00\n"
     ]
    }
   ],
   "source": [
    "print(x_values_df.describe())"
   ]
  },
  {
   "cell_type": "markdown",
   "metadata": {
    "id": "D0TOWosT7t-Y"
   },
   "source": [
    "## 4. Build the neural network\n",
    "\n",
    "We can now build a simple neural network. In order to do so, we will need to import the dense and sequential functions from keras library. \n",
    "\n",
    "### Sequential\n",
    "The Sequential model allows you to first create an empty model object, and then add layers to it one after another in sequence.\n",
    "\n",
    "### Dense\n",
    "A dense layer is simply a layer of neurons in the neural network. "
   ]
  },
  {
   "cell_type": "code",
   "execution_count": 9,
   "metadata": {
    "id": "YOCp43u37t-Z"
   },
   "outputs": [],
   "source": [
    "from keras.models import Sequential\n",
    "from keras.layers import Dense"
   ]
  },
  {
   "cell_type": "markdown",
   "metadata": {
    "id": "5Pa6fYg97t-Z"
   },
   "source": [
    "Let us build a neural network with 1 input layer, 2 hidden layers and 1 output layer. There are no rules to decide how many nodes should be within the hidden layers. \n",
    "\n",
    "For this neural network, we will use 6 hidden nodes for each hidden layer. \n",
    "\n",
    "With regards to the output layer, we should use as many nodes as the number of classes. How many nodes should we use for the output?"
   ]
  },
  {
   "cell_type": "code",
   "execution_count": 10,
   "metadata": {
    "id": "kADl_wCZ7t-a"
   },
   "outputs": [],
   "source": [
    "# your answer here"
   ]
  },
  {
   "cell_type": "markdown",
   "metadata": {
    "id": "w_BZWTJQ7t-a"
   },
   "source": [
    "Can you draw the neural network you are creating? Draw them now!"
   ]
  },
  {
   "cell_type": "code",
   "execution_count": 11,
   "metadata": {
    "id": "PG6UNfIp7t-a"
   },
   "outputs": [],
   "source": [
    "# draw your neural network!"
   ]
  },
  {
   "cell_type": "markdown",
   "metadata": {
    "id": "xqhyJ7id7t-a"
   },
   "source": [
    "Try the code below to build the artificial neural network."
   ]
  },
  {
   "cell_type": "code",
   "execution_count": 12,
   "metadata": {
    "id": "yv5tPQTJ7t-a"
   },
   "outputs": [],
   "source": [
    "# Initialise the neural network as model\n",
    "model = Sequential()\n",
    "\n",
    "# Add the first hidden layer with 6 nodes. Input_dim refers to the number of columns/number of features in x_values or the input layer.\n",
    "# Activation refers to how the nodes/neurons are activated. We will use relu. Other common activations are 'sigmoid' and 'tanh'\n",
    "model.add(Dense(6,input_dim=4,activation='relu'))\n",
    "\n",
    "# Add the hidden layer with 6 nodes. \n",
    "model.add(Dense(6,activation='relu'))\n",
    "\n",
    "# Add the output layer with 3 nodes. The activation used has to be 'softmax'. Softmax is used when you are dealing with categorical outputs or targets. \n",
    "model.add(Dense(3,activation='softmax'))\n",
    "\n",
    "# Compile the model together. The optimizer refers to the method to make the adjustment within the model. Loss refers to how the difference between the predicted out \n",
    "model.compile(optimizer='adam',loss='categorical_crossentropy',metrics=['accuracy'])"
   ]
  },
  {
   "cell_type": "markdown",
   "metadata": {
    "id": "NLpMW5ch7t-b"
   },
   "source": [
    "Optional: [Comparisons between activation functions](http://www.machineintellegence.com/different-types-of-activation-functions-in-keras/)\n",
    "You've learnt about ReLu earlier in Acquire-CV. There are many more activation functions. They are like [on-off buttons](https://en.wikipedia.org/wiki/Activation_function) to allow certain data/input to follow through the neurons or not. You are not expected to know the functions in detail for now. "
   ]
  },
  {
   "cell_type": "markdown",
   "metadata": {
    "id": "D9LZah3h7t-b"
   },
   "source": [
    "We can also print out the model summary after it has been compiled. Try the code below to see:\n",
    "- The layers and their order in the model.\n",
    "- The output shape of each layer.\n",
    "- The number of parameters (weights) in each layer.\n",
    "- The total number of parameters (weights) in the model."
   ]
  },
  {
   "cell_type": "code",
   "execution_count": 13,
   "metadata": {
    "id": "y6tOn63K7t-c"
   },
   "outputs": [
    {
     "name": "stdout",
     "output_type": "stream",
     "text": [
      "Model: \"sequential\"\n",
      "_________________________________________________________________\n",
      "Layer (type)                 Output Shape              Param #   \n",
      "=================================================================\n",
      "dense (Dense)                (None, 6)                 30        \n",
      "_________________________________________________________________\n",
      "dense_1 (Dense)              (None, 6)                 42        \n",
      "_________________________________________________________________\n",
      "dense_2 (Dense)              (None, 3)                 21        \n",
      "=================================================================\n",
      "Total params: 93\n",
      "Trainable params: 93\n",
      "Non-trainable params: 0\n",
      "_________________________________________________________________\n"
     ]
    }
   ],
   "source": [
    "model.summary()"
   ]
  },
  {
   "cell_type": "markdown",
   "metadata": {
    "id": "o1wH_lT37t-c"
   },
   "source": [
    "As the y_values are categorical in nature (categories instead of numbers), we have to convert the y_values from categories into numbers before we can train the neural network. For neural networks, if the categories are not numerical groups (for example, 1,2,3,4,etc) we have to perform label encoding (Remember doing this in an earlier notebook?) before doing one-hot encoding. Refer to the bonus section in the \"Supervised learning technique\" notebook for more information on one-hot encoding. You can also read this [article](https://machinelearningmastery.com/why-one-hot-encode-data-in-machine-learning/) to find out more. We can use the to_categorical function from Keras to help us do so. Try the code below to label encode then one-hot encode the y_values."
   ]
  },
  {
   "cell_type": "code",
   "execution_count": 14,
   "metadata": {
    "id": "p5lI5I_w7t-c"
   },
   "outputs": [
    {
     "name": "stdout",
     "output_type": "stream",
     "text": [
      "Iris-setosa        50\n",
      "Iris-versicolor    50\n",
      "Iris-virginica     50\n",
      "Name: species, dtype: int64\n",
      "2    50\n",
      "1    50\n",
      "0    50\n",
      "Name: species, dtype: int64\n",
      "[[1. 0. 0.]\n",
      " [1. 0. 0.]\n",
      " [1. 0. 0.]\n",
      " [1. 0. 0.]\n",
      " [1. 0. 0.]\n",
      " [1. 0. 0.]\n",
      " [1. 0. 0.]\n",
      " [1. 0. 0.]\n",
      " [1. 0. 0.]\n",
      " [1. 0. 0.]\n",
      " [1. 0. 0.]\n",
      " [1. 0. 0.]\n",
      " [1. 0. 0.]\n",
      " [1. 0. 0.]\n",
      " [1. 0. 0.]\n",
      " [1. 0. 0.]\n",
      " [1. 0. 0.]\n",
      " [1. 0. 0.]\n",
      " [1. 0. 0.]\n",
      " [1. 0. 0.]\n",
      " [1. 0. 0.]\n",
      " [1. 0. 0.]\n",
      " [1. 0. 0.]\n",
      " [1. 0. 0.]\n",
      " [1. 0. 0.]\n",
      " [1. 0. 0.]\n",
      " [1. 0. 0.]\n",
      " [1. 0. 0.]\n",
      " [1. 0. 0.]\n",
      " [1. 0. 0.]\n",
      " [1. 0. 0.]\n",
      " [1. 0. 0.]\n",
      " [1. 0. 0.]\n",
      " [1. 0. 0.]\n",
      " [1. 0. 0.]\n",
      " [1. 0. 0.]\n",
      " [1. 0. 0.]\n",
      " [1. 0. 0.]\n",
      " [1. 0. 0.]\n",
      " [1. 0. 0.]\n",
      " [1. 0. 0.]\n",
      " [1. 0. 0.]\n",
      " [1. 0. 0.]\n",
      " [1. 0. 0.]\n",
      " [1. 0. 0.]\n",
      " [1. 0. 0.]\n",
      " [1. 0. 0.]\n",
      " [1. 0. 0.]\n",
      " [1. 0. 0.]\n",
      " [1. 0. 0.]\n",
      " [0. 1. 0.]\n",
      " [0. 1. 0.]\n",
      " [0. 1. 0.]\n",
      " [0. 1. 0.]\n",
      " [0. 1. 0.]\n",
      " [0. 1. 0.]\n",
      " [0. 1. 0.]\n",
      " [0. 1. 0.]\n",
      " [0. 1. 0.]\n",
      " [0. 1. 0.]\n",
      " [0. 1. 0.]\n",
      " [0. 1. 0.]\n",
      " [0. 1. 0.]\n",
      " [0. 1. 0.]\n",
      " [0. 1. 0.]\n",
      " [0. 1. 0.]\n",
      " [0. 1. 0.]\n",
      " [0. 1. 0.]\n",
      " [0. 1. 0.]\n",
      " [0. 1. 0.]\n",
      " [0. 1. 0.]\n",
      " [0. 1. 0.]\n",
      " [0. 1. 0.]\n",
      " [0. 1. 0.]\n",
      " [0. 1. 0.]\n",
      " [0. 1. 0.]\n",
      " [0. 1. 0.]\n",
      " [0. 1. 0.]\n",
      " [0. 1. 0.]\n",
      " [0. 1. 0.]\n",
      " [0. 1. 0.]\n",
      " [0. 1. 0.]\n",
      " [0. 1. 0.]\n",
      " [0. 1. 0.]\n",
      " [0. 1. 0.]\n",
      " [0. 1. 0.]\n",
      " [0. 1. 0.]\n",
      " [0. 1. 0.]\n",
      " [0. 1. 0.]\n",
      " [0. 1. 0.]\n",
      " [0. 1. 0.]\n",
      " [0. 1. 0.]\n",
      " [0. 1. 0.]\n",
      " [0. 1. 0.]\n",
      " [0. 1. 0.]\n",
      " [0. 1. 0.]\n",
      " [0. 1. 0.]\n",
      " [0. 1. 0.]\n",
      " [0. 1. 0.]\n",
      " [0. 1. 0.]\n",
      " [0. 0. 1.]\n",
      " [0. 0. 1.]\n",
      " [0. 0. 1.]\n",
      " [0. 0. 1.]\n",
      " [0. 0. 1.]\n",
      " [0. 0. 1.]\n",
      " [0. 0. 1.]\n",
      " [0. 0. 1.]\n",
      " [0. 0. 1.]\n",
      " [0. 0. 1.]\n",
      " [0. 0. 1.]\n",
      " [0. 0. 1.]\n",
      " [0. 0. 1.]\n",
      " [0. 0. 1.]\n",
      " [0. 0. 1.]\n",
      " [0. 0. 1.]\n",
      " [0. 0. 1.]\n",
      " [0. 0. 1.]\n",
      " [0. 0. 1.]\n",
      " [0. 0. 1.]\n",
      " [0. 0. 1.]\n",
      " [0. 0. 1.]\n",
      " [0. 0. 1.]\n",
      " [0. 0. 1.]\n",
      " [0. 0. 1.]\n",
      " [0. 0. 1.]\n",
      " [0. 0. 1.]\n",
      " [0. 0. 1.]\n",
      " [0. 0. 1.]\n",
      " [0. 0. 1.]\n",
      " [0. 0. 1.]\n",
      " [0. 0. 1.]\n",
      " [0. 0. 1.]\n",
      " [0. 0. 1.]\n",
      " [0. 0. 1.]\n",
      " [0. 0. 1.]\n",
      " [0. 0. 1.]\n",
      " [0. 0. 1.]\n",
      " [0. 0. 1.]\n",
      " [0. 0. 1.]\n",
      " [0. 0. 1.]\n",
      " [0. 0. 1.]\n",
      " [0. 0. 1.]\n",
      " [0. 0. 1.]\n",
      " [0. 0. 1.]\n",
      " [0. 0. 1.]\n",
      " [0. 0. 1.]\n",
      " [0. 0. 1.]\n",
      " [0. 0. 1.]\n",
      " [0. 0. 1.]]\n"
     ]
    }
   ],
   "source": [
    "from keras.utils.np_utils import to_categorical\n",
    "\n",
    "# Print number of data points in each class\n",
    "print(df['species'].value_counts())\n",
    "\n",
    "# Dictionary to input the different numbers for different classes. \n",
    "# We are using values starting from 0 so that only 3 instead of 4 columns will be created in by the one-hot encoding.\n",
    "label_encode = {\"species\": {\"Iris-setosa\":0, \"Iris-versicolor\":1, \"Iris-virginica\":2}}\n",
    "\n",
    "# Use .replace to change the different classes into numbers\n",
    "df.replace(label_encode,inplace=True)\n",
    "\n",
    "# Print number of data points in each class to check if the classes have changed to numbers\n",
    "print(df['species'].value_counts())\n",
    "\n",
    "# Extract out the class as y_values\n",
    "y_values = df['species']\n",
    "\n",
    "# One-hot encode the y_values\n",
    "y_values = to_categorical(y_values)\n",
    "\n",
    "print(y_values)"
   ]
  },
  {
   "cell_type": "markdown",
   "metadata": {
    "id": "hvDyzBx17t-c"
   },
   "source": [
    "See what is listed in the y_values above. We have encoded the flower names into numbers. "
   ]
  },
  {
   "cell_type": "markdown",
   "metadata": {
    "id": "AsaJi5i47t-c"
   },
   "source": [
    "Now, let us train the model. Run the code below!"
   ]
  },
  {
   "cell_type": "code",
   "execution_count": 15,
   "metadata": {
    "id": "dE1RcfNx7t-c",
    "outputId": "de86cbe8-7beb-4c40-e394-6dfc7cb9669f"
   },
   "outputs": [
    {
     "name": "stdout",
     "output_type": "stream",
     "text": [
      "Epoch 1/20\n",
      "5/5 [==============================] - 27s 2ms/step - loss: 0.9730 - accuracy: 0.5008\n",
      "Epoch 2/20\n",
      "5/5 [==============================] - 0s 2ms/step - loss: 0.9572 - accuracy: 0.4982\n",
      "Epoch 3/20\n",
      "5/5 [==============================] - 0s 2ms/step - loss: 0.9449 - accuracy: 0.4661\n",
      "Epoch 4/20\n",
      "5/5 [==============================] - 0s 2ms/step - loss: 0.9349 - accuracy: 0.5527\n",
      "Epoch 5/20\n",
      "5/5 [==============================] - 0s 2ms/step - loss: 0.9089 - accuracy: 0.5261\n",
      "Epoch 6/20\n",
      "5/5 [==============================] - 0s 2ms/step - loss: 0.9046 - accuracy: 0.5227\n",
      "Epoch 7/20\n",
      "5/5 [==============================] - 0s 2ms/step - loss: 0.8874 - accuracy: 0.5027\n",
      "Epoch 8/20\n",
      "5/5 [==============================] - 0s 2ms/step - loss: 0.8640 - accuracy: 0.4731\n",
      "Epoch 9/20\n",
      "5/5 [==============================] - 0s 3ms/step - loss: 0.8437 - accuracy: 0.5911\n",
      "Epoch 10/20\n",
      "5/5 [==============================] - 0s 2ms/step - loss: 0.8408 - accuracy: 0.6727\n",
      "Epoch 11/20\n",
      "5/5 [==============================] - 0s 2ms/step - loss: 0.8255 - accuracy: 0.7359\n",
      "Epoch 12/20\n",
      "5/5 [==============================] - 0s 2ms/step - loss: 0.8166 - accuracy: 0.7182\n",
      "Epoch 13/20\n",
      "5/5 [==============================] - 0s 2ms/step - loss: 0.8012 - accuracy: 0.7309\n",
      "Epoch 14/20\n",
      "5/5 [==============================] - 0s 2ms/step - loss: 0.7697 - accuracy: 0.7818\n",
      "Epoch 15/20\n",
      "5/5 [==============================] - 0s 3ms/step - loss: 0.7715 - accuracy: 0.7320\n",
      "Epoch 16/20\n",
      "5/5 [==============================] - 0s 4ms/step - loss: 0.7498 - accuracy: 0.7589\n",
      "Epoch 17/20\n",
      "5/5 [==============================] - 0s 4ms/step - loss: 0.7568 - accuracy: 0.7277\n",
      "Epoch 18/20\n",
      "5/5 [==============================] - 0s 3ms/step - loss: 0.7200 - accuracy: 0.7898\n",
      "Epoch 19/20\n",
      "5/5 [==============================] - 0s 3ms/step - loss: 0.7279 - accuracy: 0.7291\n",
      "Epoch 20/20\n",
      "5/5 [==============================] - 0s 4ms/step - loss: 0.7064 - accuracy: 0.7482\n"
     ]
    },
    {
     "data": {
      "text/plain": [
       "<keras.callbacks.History at 0x7f9f47c63fa0>"
      ]
     },
     "execution_count": 15,
     "metadata": {},
     "output_type": "execute_result"
    }
   ],
   "source": [
    "# Train model with x_values and y_values. \n",
    "# Epochs refer to the number of times the full dataset will be used to train the model.\n",
    "# Shuffle = True tells the model to randomise the arrangement of the dataset after each epoch. \n",
    "model.fit(x_values,y_values,epochs=20,shuffle=True)"
   ]
  },
  {
   "cell_type": "markdown",
   "metadata": {
    "id": "XuXX1Vmg7t-e"
   },
   "source": [
    "Well done! You have trained your first neural network. Before we look at the accuracy, we have to understand some of the terms in the output.\n",
    "\n",
    "Epochs refer to the number of times the full dataset will be used to train the model.\n",
    "\n",
    "us/step shows how long the model took to train on each epoch.\n",
    "\n",
    "acc shows how accurate the model is. \n",
    "\n",
    "Notice how these numbers change over the different epoch."
   ]
  },
  {
   "cell_type": "markdown",
   "metadata": {
    "id": "AmU3wSfd7t-e"
   },
   "source": [
    "From the model above, what was the accuracy value you've got?\n",
    "\n",
    "Try to see if you can get a better accuracy by adding another hidden layer to the model. The additional hidden layer can have the same number of nodes as the previous layer. \n",
    "\n",
    "Copy the relevant codes listed above in the cell below and modify the codes to add in the additional hidden layer. Train the new model and see if the accuracy improves."
   ]
  },
  {
   "cell_type": "code",
   "execution_count": 16,
   "metadata": {
    "id": "m7I1aiig7t-e"
   },
   "outputs": [],
   "source": [
    "# your code/answer here"
   ]
  },
  {
   "cell_type": "markdown",
   "metadata": {
    "id": "1h7nNYFF7t-f"
   },
   "source": [
    "After adding another hidden layer, you should observe that the accuracy seems to be lower than the initial model. As such, this shows that adding more layers need not necessarily lead to a higher accuracy.\n",
    "\n",
    "<font color = blue>Bonus: You can try other methods to improve the accuracy. How about increasing the number of nodes in the hidden layer? Do you get a higher accuracy if you do so?</font>"
   ]
  },
  {
   "cell_type": "code",
   "execution_count": 17,
   "metadata": {
    "id": "GtyGAzlk7t-f"
   },
   "outputs": [],
   "source": [
    "# your code/answer here"
   ]
  },
  {
   "cell_type": "markdown",
   "metadata": {
    "id": "yp8Gt_A47t-f"
   },
   "source": [
    "# Validation Dataset"
   ]
  },
  {
   "cell_type": "markdown",
   "metadata": {
    "id": "XsTffomf7t-g"
   },
   "source": [
    "From the above, we can see that the neural network can be trained for any number of epochs. This means that the network can keep learning from the same dataset many times. What do you think will happen if the model keeps learning from the same dataset? Do you think the network will be able to obtain very high accuracy by doing so?"
   ]
  },
  {
   "cell_type": "code",
   "execution_count": 18,
   "metadata": {
    "id": "9e27koBP7t-g"
   },
   "outputs": [],
   "source": [
    "# your code/answer here"
   ]
  },
  {
   "cell_type": "markdown",
   "metadata": {
    "id": "FwarNLPo7t-g"
   },
   "source": [
    "You were right if you think that the model's accuracy will increase as it continues to learn. You can try it on the same dataset. Run the code below and observe the accuracy. Is it higher than the accuracy from the previous model with the same setting?"
   ]
  },
  {
   "cell_type": "code",
   "execution_count": 19,
   "metadata": {
    "id": "J8c02sW77t-h"
   },
   "outputs": [
    {
     "name": "stdout",
     "output_type": "stream",
     "text": [
      "Epoch 1/200\n",
      "5/5 [==============================] - 1s 2ms/step - loss: 1.2308 - accuracy: 0.0176\n",
      "Epoch 2/200\n",
      "5/5 [==============================] - 0s 2ms/step - loss: 1.2062 - accuracy: 0.0740\n",
      "Epoch 3/200\n",
      "5/5 [==============================] - 0s 2ms/step - loss: 1.1542 - accuracy: 0.1420\n",
      "Epoch 4/200\n",
      "5/5 [==============================] - 0s 2ms/step - loss: 1.1285 - accuracy: 0.1378\n",
      "Epoch 5/200\n",
      "5/5 [==============================] - 0s 2ms/step - loss: 1.0999 - accuracy: 0.1753\n",
      "Epoch 6/200\n",
      "5/5 [==============================] - 0s 2ms/step - loss: 1.0683 - accuracy: 0.2217\n",
      "Epoch 7/200\n",
      "5/5 [==============================] - 0s 2ms/step - loss: 1.0484 - accuracy: 0.2814\n",
      "Epoch 8/200\n",
      "5/5 [==============================] - 0s 3ms/step - loss: 1.0196 - accuracy: 0.3479\n",
      "Epoch 9/200\n",
      "5/5 [==============================] - 0s 2ms/step - loss: 1.0130 - accuracy: 0.4600\n",
      "Epoch 10/200\n",
      "5/5 [==============================] - 0s 2ms/step - loss: 0.9919 - accuracy: 0.4844\n",
      "Epoch 11/200\n",
      "5/5 [==============================] - 0s 2ms/step - loss: 0.9473 - accuracy: 0.5932\n",
      "Epoch 12/200\n",
      "5/5 [==============================] - 0s 2ms/step - loss: 0.9542 - accuracy: 0.5583\n",
      "Epoch 13/200\n",
      "5/5 [==============================] - 0s 3ms/step - loss: 0.9280 - accuracy: 0.6015\n",
      "Epoch 14/200\n",
      "5/5 [==============================] - 0s 3ms/step - loss: 0.9099 - accuracy: 0.6146\n",
      "Epoch 15/200\n",
      "5/5 [==============================] - 0s 2ms/step - loss: 0.8813 - accuracy: 0.6417\n",
      "Epoch 16/200\n",
      "5/5 [==============================] - 0s 4ms/step - loss: 0.8675 - accuracy: 0.6204\n",
      "Epoch 17/200\n",
      "5/5 [==============================] - 0s 4ms/step - loss: 0.8560 - accuracy: 0.6883\n",
      "Epoch 18/200\n",
      "5/5 [==============================] - 0s 2ms/step - loss: 0.8455 - accuracy: 0.6576\n",
      "Epoch 19/200\n",
      "5/5 [==============================] - 0s 3ms/step - loss: 0.8449 - accuracy: 0.6768\n",
      "Epoch 20/200\n",
      "5/5 [==============================] - 0s 4ms/step - loss: 0.8237 - accuracy: 0.7094\n",
      "Epoch 21/200\n",
      "5/5 [==============================] - 0s 3ms/step - loss: 0.7905 - accuracy: 0.6622\n",
      "Epoch 22/200\n",
      "5/5 [==============================] - 0s 5ms/step - loss: 0.7666 - accuracy: 0.7210\n",
      "Epoch 23/200\n",
      "5/5 [==============================] - 0s 5ms/step - loss: 0.7776 - accuracy: 0.7196\n",
      "Epoch 24/200\n",
      "5/5 [==============================] - 0s 7ms/step - loss: 0.7417 - accuracy: 0.7097\n",
      "Epoch 25/200\n",
      "5/5 [==============================] - 0s 4ms/step - loss: 0.7131 - accuracy: 0.7646\n",
      "Epoch 26/200\n",
      "5/5 [==============================] - 0s 6ms/step - loss: 0.7129 - accuracy: 0.7890\n",
      "Epoch 27/200\n",
      "5/5 [==============================] - 0s 6ms/step - loss: 0.7026 - accuracy: 0.7908\n",
      "Epoch 28/200\n",
      "5/5 [==============================] - 0s 3ms/step - loss: 0.6857 - accuracy: 0.8165\n",
      "Epoch 29/200\n",
      "5/5 [==============================] - 0s 3ms/step - loss: 0.6914 - accuracy: 0.7915\n",
      "Epoch 30/200\n",
      "5/5 [==============================] - 0s 3ms/step - loss: 0.6670 - accuracy: 0.8001\n",
      "Epoch 31/200\n",
      "5/5 [==============================] - 0s 4ms/step - loss: 0.6606 - accuracy: 0.8280\n",
      "Epoch 32/200\n",
      "5/5 [==============================] - 0s 20ms/step - loss: 0.6605 - accuracy: 0.8419\n",
      "Epoch 33/200\n",
      "5/5 [==============================] - 0s 3ms/step - loss: 0.6379 - accuracy: 0.8211\n",
      "Epoch 34/200\n",
      "5/5 [==============================] - 0s 2ms/step - loss: 0.6296 - accuracy: 0.8011\n",
      "Epoch 35/200\n",
      "5/5 [==============================] - 0s 3ms/step - loss: 0.6098 - accuracy: 0.8172\n",
      "Epoch 36/200\n",
      "5/5 [==============================] - 0s 3ms/step - loss: 0.6348 - accuracy: 0.8176\n",
      "Epoch 37/200\n",
      "5/5 [==============================] - 0s 4ms/step - loss: 0.5955 - accuracy: 0.7950\n",
      "Epoch 38/200\n",
      "5/5 [==============================] - 0s 3ms/step - loss: 0.5980 - accuracy: 0.8106\n",
      "Epoch 39/200\n",
      "5/5 [==============================] - 0s 3ms/step - loss: 0.5957 - accuracy: 0.8124\n",
      "Epoch 40/200\n",
      "5/5 [==============================] - 0s 6ms/step - loss: 0.5167 - accuracy: 0.8653\n",
      "Epoch 41/200\n",
      "5/5 [==============================] - 0s 11ms/step - loss: 0.5567 - accuracy: 0.8363\n",
      "Epoch 42/200\n",
      "5/5 [==============================] - 0s 17ms/step - loss: 0.5841 - accuracy: 0.8137\n",
      "Epoch 43/200\n",
      "5/5 [==============================] - 0s 3ms/step - loss: 0.5259 - accuracy: 0.8255\n",
      "Epoch 44/200\n",
      "5/5 [==============================] - 0s 3ms/step - loss: 0.5480 - accuracy: 0.8268\n",
      "Epoch 45/200\n",
      "5/5 [==============================] - 0s 3ms/step - loss: 0.5269 - accuracy: 0.8363\n",
      "Epoch 46/200\n",
      "5/5 [==============================] - 0s 4ms/step - loss: 0.5347 - accuracy: 0.8216\n",
      "Epoch 47/200\n",
      "5/5 [==============================] - 0s 3ms/step - loss: 0.4892 - accuracy: 0.8372\n",
      "Epoch 48/200\n",
      "5/5 [==============================] - 0s 3ms/step - loss: 0.4892 - accuracy: 0.8394\n",
      "Epoch 49/200\n",
      "5/5 [==============================] - 0s 3ms/step - loss: 0.4770 - accuracy: 0.8415\n",
      "Epoch 50/200\n",
      "5/5 [==============================] - 0s 4ms/step - loss: 0.4812 - accuracy: 0.8359\n",
      "Epoch 51/200\n",
      "5/5 [==============================] - 0s 3ms/step - loss: 0.4735 - accuracy: 0.8528\n",
      "Epoch 52/200\n",
      "5/5 [==============================] - 0s 4ms/step - loss: 0.4971 - accuracy: 0.8164\n",
      "Epoch 53/200\n",
      "5/5 [==============================] - 0s 4ms/step - loss: 0.4825 - accuracy: 0.8194\n",
      "Epoch 54/200\n",
      "5/5 [==============================] - 0s 5ms/step - loss: 0.4735 - accuracy: 0.7955\n",
      "Epoch 55/200\n",
      "5/5 [==============================] - 0s 5ms/step - loss: 0.5046 - accuracy: 0.7907\n",
      "Epoch 56/200\n",
      "5/5 [==============================] - 0s 5ms/step - loss: 0.4402 - accuracy: 0.8494\n",
      "Epoch 57/200\n",
      "5/5 [==============================] - 0s 6ms/step - loss: 0.4378 - accuracy: 0.8325\n",
      "Epoch 58/200\n",
      "5/5 [==============================] - 0s 6ms/step - loss: 0.4369 - accuracy: 0.8403\n",
      "Epoch 59/200\n",
      "5/5 [==============================] - 0s 7ms/step - loss: 0.4523 - accuracy: 0.8416\n",
      "Epoch 60/200\n",
      "5/5 [==============================] - 0s 3ms/step - loss: 0.4452 - accuracy: 0.8316\n",
      "Epoch 61/200\n",
      "5/5 [==============================] - 0s 5ms/step - loss: 0.4410 - accuracy: 0.8247\n",
      "Epoch 62/200\n",
      "5/5 [==============================] - 0s 6ms/step - loss: 0.4158 - accuracy: 0.8568\n",
      "Epoch 63/200\n",
      "5/5 [==============================] - 0s 6ms/step - loss: 0.4310 - accuracy: 0.8234\n",
      "Epoch 64/200\n",
      "5/5 [==============================] - 0s 6ms/step - loss: 0.4151 - accuracy: 0.8360\n",
      "Epoch 65/200\n",
      "5/5 [==============================] - 0s 7ms/step - loss: 0.3984 - accuracy: 0.8660\n",
      "Epoch 66/200\n",
      "5/5 [==============================] - 0s 12ms/step - loss: 0.4073 - accuracy: 0.8426\n",
      "Epoch 67/200\n",
      "5/5 [==============================] - 0s 5ms/step - loss: 0.3802 - accuracy: 0.8465\n",
      "Epoch 68/200\n",
      "5/5 [==============================] - 0s 5ms/step - loss: 0.3910 - accuracy: 0.8561\n",
      "Epoch 69/200\n",
      "5/5 [==============================] - 0s 6ms/step - loss: 0.3747 - accuracy: 0.8830\n",
      "Epoch 70/200\n",
      "5/5 [==============================] - 0s 4ms/step - loss: 0.3728 - accuracy: 0.8552\n",
      "Epoch 71/200\n",
      "5/5 [==============================] - 0s 10ms/step - loss: 0.3656 - accuracy: 0.8539\n",
      "Epoch 72/200\n",
      "5/5 [==============================] - 0s 9ms/step - loss: 0.3559 - accuracy: 0.8753\n",
      "Epoch 73/200\n",
      "5/5 [==============================] - 0s 4ms/step - loss: 0.3547 - accuracy: 0.8744\n",
      "Epoch 74/200\n",
      "5/5 [==============================] - 0s 3ms/step - loss: 0.3594 - accuracy: 0.8757\n",
      "Epoch 75/200\n",
      "5/5 [==============================] - 0s 3ms/step - loss: 0.3615 - accuracy: 0.8666\n",
      "Epoch 76/200\n",
      "5/5 [==============================] - 0s 3ms/step - loss: 0.3607 - accuracy: 0.8597\n",
      "Epoch 77/200\n",
      "5/5 [==============================] - 0s 3ms/step - loss: 0.3189 - accuracy: 0.8892\n",
      "Epoch 78/200\n",
      "5/5 [==============================] - 0s 3ms/step - loss: 0.3222 - accuracy: 0.8810\n",
      "Epoch 79/200\n",
      "5/5 [==============================] - 0s 4ms/step - loss: 0.3612 - accuracy: 0.8566\n",
      "Epoch 80/200\n",
      "5/5 [==============================] - 0s 6ms/step - loss: 0.3333 - accuracy: 0.8770\n",
      "Epoch 81/200\n",
      "5/5 [==============================] - 0s 4ms/step - loss: 0.3274 - accuracy: 0.8597\n",
      "Epoch 82/200\n",
      "5/5 [==============================] - 0s 3ms/step - loss: 0.3536 - accuracy: 0.8645\n",
      "Epoch 83/200\n",
      "5/5 [==============================] - 0s 3ms/step - loss: 0.3176 - accuracy: 0.8935\n",
      "Epoch 84/200\n"
     ]
    },
    {
     "name": "stdout",
     "output_type": "stream",
     "text": [
      "5/5 [==============================] - 0s 3ms/step - loss: 0.3082 - accuracy: 0.8718\n",
      "Epoch 85/200\n",
      "5/5 [==============================] - 0s 3ms/step - loss: 0.2930 - accuracy: 0.8879\n",
      "Epoch 86/200\n",
      "5/5 [==============================] - 0s 9ms/step - loss: 0.2809 - accuracy: 0.9005\n",
      "Epoch 87/200\n",
      "5/5 [==============================] - 0s 5ms/step - loss: 0.2840 - accuracy: 0.9066\n",
      "Epoch 88/200\n",
      "5/5 [==============================] - 0s 3ms/step - loss: 0.2773 - accuracy: 0.8923\n",
      "Epoch 89/200\n",
      "5/5 [==============================] - 0s 7ms/step - loss: 0.2907 - accuracy: 0.8910\n",
      "Epoch 90/200\n",
      "5/5 [==============================] - 0s 5ms/step - loss: 0.3002 - accuracy: 0.8572\n",
      "Epoch 91/200\n",
      "5/5 [==============================] - 0s 8ms/step - loss: 0.2942 - accuracy: 0.8911\n",
      "Epoch 92/200\n",
      "5/5 [==============================] - 0s 6ms/step - loss: 0.2914 - accuracy: 0.8925\n",
      "Epoch 93/200\n",
      "5/5 [==============================] - 0s 3ms/step - loss: 0.2787 - accuracy: 0.9099\n",
      "Epoch 94/200\n",
      "5/5 [==============================] - 0s 4ms/step - loss: 0.3022 - accuracy: 0.8964\n",
      "Epoch 95/200\n",
      "5/5 [==============================] - 0s 3ms/step - loss: 0.2831 - accuracy: 0.8808\n",
      "Epoch 96/200\n",
      "5/5 [==============================] - 0s 3ms/step - loss: 0.2712 - accuracy: 0.9260\n",
      "Epoch 97/200\n",
      "5/5 [==============================] - 0s 3ms/step - loss: 0.2474 - accuracy: 0.9190\n",
      "Epoch 98/200\n",
      "5/5 [==============================] - 0s 3ms/step - loss: 0.2431 - accuracy: 0.9373\n",
      "Epoch 99/200\n",
      "5/5 [==============================] - 0s 3ms/step - loss: 0.2801 - accuracy: 0.9322\n",
      "Epoch 100/200\n",
      "5/5 [==============================] - 0s 3ms/step - loss: 0.2360 - accuracy: 0.9374\n",
      "Epoch 101/200\n",
      "5/5 [==============================] - 0s 2ms/step - loss: 0.2701 - accuracy: 0.9187\n",
      "Epoch 102/200\n",
      "5/5 [==============================] - 0s 3ms/step - loss: 0.2350 - accuracy: 0.9387\n",
      "Epoch 103/200\n",
      "5/5 [==============================] - 0s 5ms/step - loss: 0.2651 - accuracy: 0.9227\n",
      "Epoch 104/200\n",
      "5/5 [==============================] - 0s 4ms/step - loss: 0.2304 - accuracy: 0.9344\n",
      "Epoch 105/200\n",
      "5/5 [==============================] - 0s 4ms/step - loss: 0.2227 - accuracy: 0.9561\n",
      "Epoch 106/200\n",
      "5/5 [==============================] - 0s 4ms/step - loss: 0.2581 - accuracy: 0.9301\n",
      "Epoch 107/200\n",
      "5/5 [==============================] - 0s 3ms/step - loss: 0.2131 - accuracy: 0.9540\n",
      "Epoch 108/200\n",
      "5/5 [==============================] - 0s 4ms/step - loss: 0.2248 - accuracy: 0.9501\n",
      "Epoch 109/200\n",
      "5/5 [==============================] - 0s 8ms/step - loss: 0.2124 - accuracy: 0.9553\n",
      "Epoch 110/200\n",
      "5/5 [==============================] - 0s 6ms/step - loss: 0.2376 - accuracy: 0.9375\n",
      "Epoch 111/200\n",
      "5/5 [==============================] - 0s 7ms/step - loss: 0.2324 - accuracy: 0.9270\n",
      "Epoch 112/200\n",
      "5/5 [==============================] - 0s 4ms/step - loss: 0.2221 - accuracy: 0.9593\n",
      "Epoch 113/200\n",
      "5/5 [==============================] - 0s 3ms/step - loss: 0.2074 - accuracy: 0.9567\n",
      "Epoch 114/200\n",
      "5/5 [==============================] - 0s 3ms/step - loss: 0.2482 - accuracy: 0.9319\n",
      "Epoch 115/200\n",
      "5/5 [==============================] - 0s 3ms/step - loss: 0.2055 - accuracy: 0.9658\n",
      "Epoch 116/200\n",
      "5/5 [==============================] - 0s 3ms/step - loss: 0.2276 - accuracy: 0.9523\n",
      "Epoch 117/200\n",
      "5/5 [==============================] - 0s 3ms/step - loss: 0.2252 - accuracy: 0.9415\n",
      "Epoch 118/200\n",
      "5/5 [==============================] - 0s 3ms/step - loss: 0.2035 - accuracy: 0.9545\n",
      "Epoch 119/200\n",
      "5/5 [==============================] - 0s 3ms/step - loss: 0.2071 - accuracy: 0.9519\n",
      "Epoch 120/200\n",
      "5/5 [==============================] - 0s 4ms/step - loss: 0.2107 - accuracy: 0.9598\n",
      "Epoch 121/200\n",
      "5/5 [==============================] - 0s 4ms/step - loss: 0.1808 - accuracy: 0.9793\n",
      "Epoch 122/200\n",
      "5/5 [==============================] - 0s 3ms/step - loss: 0.1863 - accuracy: 0.9728\n",
      "Epoch 123/200\n",
      "5/5 [==============================] - 0s 3ms/step - loss: 0.1943 - accuracy: 0.9459\n",
      "Epoch 124/200\n",
      "5/5 [==============================] - 0s 7ms/step - loss: 0.1814 - accuracy: 0.9632\n",
      "Epoch 125/200\n",
      "5/5 [==============================] - 0s 9ms/step - loss: 0.2012 - accuracy: 0.9472\n",
      "Epoch 126/200\n",
      "5/5 [==============================] - 0s 9ms/step - loss: 0.1876 - accuracy: 0.9476\n",
      "Epoch 127/200\n",
      "5/5 [==============================] - 0s 12ms/step - loss: 0.1810 - accuracy: 0.9632\n",
      "Epoch 128/200\n",
      "5/5 [==============================] - 0s 7ms/step - loss: 0.1924 - accuracy: 0.9567\n",
      "Epoch 129/200\n",
      "5/5 [==============================] - 0s 6ms/step - loss: 0.1886 - accuracy: 0.9511\n",
      "Epoch 130/200\n",
      "5/5 [==============================] - 0s 6ms/step - loss: 0.1706 - accuracy: 0.9572\n",
      "Epoch 131/200\n",
      "5/5 [==============================] - 0s 6ms/step - loss: 0.1879 - accuracy: 0.9589\n",
      "Epoch 132/200\n",
      "5/5 [==============================] - 0s 5ms/step - loss: 0.1526 - accuracy: 0.9628\n",
      "Epoch 133/200\n",
      "5/5 [==============================] - 0s 6ms/step - loss: 0.1624 - accuracy: 0.9684\n",
      "Epoch 134/200\n",
      "5/5 [==============================] - 0s 3ms/step - loss: 0.1586 - accuracy: 0.9697\n",
      "Epoch 135/200\n",
      "5/5 [==============================] - 0s 5ms/step - loss: 0.1631 - accuracy: 0.9519\n",
      "Epoch 136/200\n",
      "5/5 [==============================] - 0s 3ms/step - loss: 0.1463 - accuracy: 0.9698\n",
      "Epoch 137/200\n",
      "5/5 [==============================] - 0s 3ms/step - loss: 0.1458 - accuracy: 0.9637\n",
      "Epoch 138/200\n",
      "5/5 [==============================] - 0s 6ms/step - loss: 0.1506 - accuracy: 0.9798\n",
      "Epoch 139/200\n",
      "5/5 [==============================] - 0s 6ms/step - loss: 0.1379 - accuracy: 0.9668\n",
      "Epoch 140/200\n",
      "5/5 [==============================] - 0s 4ms/step - loss: 0.1601 - accuracy: 0.9607\n",
      "Epoch 141/200\n",
      "5/5 [==============================] - 0s 4ms/step - loss: 0.1384 - accuracy: 0.9819\n",
      "Epoch 142/200\n",
      "5/5 [==============================] - 0s 3ms/step - loss: 0.1497 - accuracy: 0.9702\n",
      "Epoch 143/200\n",
      "5/5 [==============================] - 0s 4ms/step - loss: 0.1566 - accuracy: 0.9503\n",
      "Epoch 144/200\n",
      "5/5 [==============================] - 0s 6ms/step - loss: 0.1775 - accuracy: 0.9529\n",
      "Epoch 145/200\n",
      "5/5 [==============================] - 0s 20ms/step - loss: 0.1305 - accuracy: 0.9772\n",
      "Epoch 146/200\n",
      "5/5 [==============================] - 0s 6ms/step - loss: 0.1341 - accuracy: 0.9789\n",
      "Epoch 147/200\n",
      "5/5 [==============================] - 0s 6ms/step - loss: 0.1206 - accuracy: 0.9759\n",
      "Epoch 148/200\n",
      "5/5 [==============================] - 0s 3ms/step - loss: 0.1266 - accuracy: 0.9646\n",
      "Epoch 149/200\n",
      "5/5 [==============================] - 0s 3ms/step - loss: 0.1460 - accuracy: 0.9698\n",
      "Epoch 150/200\n",
      "5/5 [==============================] - 0s 3ms/step - loss: 0.1243 - accuracy: 0.9746\n",
      "Epoch 151/200\n",
      "5/5 [==============================] - 0s 7ms/step - loss: 0.1122 - accuracy: 0.9737\n",
      "Epoch 152/200\n",
      "5/5 [==============================] - 0s 2ms/step - loss: 0.1212 - accuracy: 0.9763\n",
      "Epoch 153/200\n",
      "5/5 [==============================] - 0s 3ms/step - loss: 0.1313 - accuracy: 0.9598\n",
      "Epoch 154/200\n",
      "5/5 [==============================] - 0s 2ms/step - loss: 0.1171 - accuracy: 0.9663\n",
      "Epoch 155/200\n",
      "5/5 [==============================] - 0s 2ms/step - loss: 0.1235 - accuracy: 0.9707\n",
      "Epoch 156/200\n",
      "5/5 [==============================] - 0s 2ms/step - loss: 0.1045 - accuracy: 0.9793\n",
      "Epoch 157/200\n",
      "5/5 [==============================] - 0s 3ms/step - loss: 0.1306 - accuracy: 0.9611\n",
      "Epoch 158/200\n",
      "5/5 [==============================] - 0s 2ms/step - loss: 0.1209 - accuracy: 0.9628\n",
      "Epoch 159/200\n",
      "5/5 [==============================] - 0s 2ms/step - loss: 0.1226 - accuracy: 0.9724\n",
      "Epoch 160/200\n",
      "5/5 [==============================] - 0s 2ms/step - loss: 0.1256 - accuracy: 0.9476\n",
      "Epoch 161/200\n",
      "5/5 [==============================] - 0s 2ms/step - loss: 0.1076 - accuracy: 0.9767\n",
      "Epoch 162/200\n",
      "5/5 [==============================] - 0s 2ms/step - loss: 0.1156 - accuracy: 0.9733\n",
      "Epoch 163/200\n",
      "5/5 [==============================] - 0s 2ms/step - loss: 0.1232 - accuracy: 0.9720\n",
      "Epoch 164/200\n",
      "5/5 [==============================] - 0s 2ms/step - loss: 0.1326 - accuracy: 0.9581\n",
      "Epoch 165/200\n",
      "5/5 [==============================] - 0s 2ms/step - loss: 0.1048 - accuracy: 0.9793\n",
      "Epoch 166/200\n",
      "5/5 [==============================] - 0s 2ms/step - loss: 0.1039 - accuracy: 0.9759\n",
      "Epoch 167/200\n"
     ]
    },
    {
     "name": "stdout",
     "output_type": "stream",
     "text": [
      "5/5 [==============================] - 0s 2ms/step - loss: 0.1075 - accuracy: 0.9681\n",
      "Epoch 168/200\n",
      "5/5 [==============================] - 0s 2ms/step - loss: 0.1149 - accuracy: 0.9559\n",
      "Epoch 169/200\n",
      "5/5 [==============================] - 0s 2ms/step - loss: 0.1052 - accuracy: 0.9754\n",
      "Epoch 170/200\n",
      "5/5 [==============================] - 0s 3ms/step - loss: 0.1014 - accuracy: 0.9681\n",
      "Epoch 171/200\n",
      "5/5 [==============================] - 0s 3ms/step - loss: 0.1122 - accuracy: 0.9637\n",
      "Epoch 172/200\n",
      "5/5 [==============================] - 0s 2ms/step - loss: 0.0933 - accuracy: 0.9707\n",
      "Epoch 173/200\n",
      "5/5 [==============================] - 0s 2ms/step - loss: 0.0981 - accuracy: 0.9628\n",
      "Epoch 174/200\n",
      "5/5 [==============================] - 0s 2ms/step - loss: 0.0951 - accuracy: 0.9720\n",
      "Epoch 175/200\n",
      "5/5 [==============================] - 0s 2ms/step - loss: 0.0854 - accuracy: 0.9820\n",
      "Epoch 176/200\n",
      "5/5 [==============================] - 0s 2ms/step - loss: 0.0980 - accuracy: 0.9624\n",
      "Epoch 177/200\n",
      "5/5 [==============================] - 0s 2ms/step - loss: 0.1003 - accuracy: 0.9694\n",
      "Epoch 178/200\n",
      "5/5 [==============================] - 0s 2ms/step - loss: 0.0966 - accuracy: 0.9720\n",
      "Epoch 179/200\n",
      "5/5 [==============================] - 0s 2ms/step - loss: 0.0993 - accuracy: 0.9659\n",
      "Epoch 180/200\n",
      "5/5 [==============================] - 0s 2ms/step - loss: 0.0930 - accuracy: 0.9633\n",
      "Epoch 181/200\n",
      "5/5 [==============================] - 0s 2ms/step - loss: 0.0884 - accuracy: 0.9776\n",
      "Epoch 182/200\n",
      "5/5 [==============================] - 0s 2ms/step - loss: 0.0879 - accuracy: 0.9655\n",
      "Epoch 183/200\n",
      "5/5 [==============================] - 0s 2ms/step - loss: 0.0966 - accuracy: 0.9681\n",
      "Epoch 184/200\n",
      "5/5 [==============================] - 0s 2ms/step - loss: 0.0858 - accuracy: 0.9750\n",
      "Epoch 185/200\n",
      "5/5 [==============================] - 0s 2ms/step - loss: 0.0874 - accuracy: 0.9711\n",
      "Epoch 186/200\n",
      "5/5 [==============================] - 0s 2ms/step - loss: 0.0772 - accuracy: 0.9759\n",
      "Epoch 187/200\n",
      "5/5 [==============================] - 0s 2ms/step - loss: 0.0917 - accuracy: 0.9650\n",
      "Epoch 188/200\n",
      "5/5 [==============================] - 0s 2ms/step - loss: 0.0832 - accuracy: 0.9694\n",
      "Epoch 189/200\n",
      "5/5 [==============================] - 0s 2ms/step - loss: 0.0810 - accuracy: 0.9698\n",
      "Epoch 190/200\n",
      "5/5 [==============================] - 0s 2ms/step - loss: 0.0810 - accuracy: 0.9733\n",
      "Epoch 191/200\n",
      "5/5 [==============================] - 0s 2ms/step - loss: 0.0839 - accuracy: 0.9733\n",
      "Epoch 192/200\n",
      "5/5 [==============================] - 0s 2ms/step - loss: 0.0962 - accuracy: 0.9555\n",
      "Epoch 193/200\n",
      "5/5 [==============================] - 0s 2ms/step - loss: 0.0810 - accuracy: 0.9633\n",
      "Epoch 194/200\n",
      "5/5 [==============================] - 0s 2ms/step - loss: 0.1051 - accuracy: 0.9477\n",
      "Epoch 195/200\n",
      "5/5 [==============================] - 0s 2ms/step - loss: 0.0845 - accuracy: 0.9681\n",
      "Epoch 196/200\n",
      "5/5 [==============================] - 0s 2ms/step - loss: 0.0856 - accuracy: 0.9698\n",
      "Epoch 197/200\n",
      "5/5 [==============================] - 0s 3ms/step - loss: 0.0891 - accuracy: 0.9637\n",
      "Epoch 198/200\n",
      "5/5 [==============================] - 0s 2ms/step - loss: 0.0712 - accuracy: 0.9793\n",
      "Epoch 199/200\n",
      "5/5 [==============================] - 0s 2ms/step - loss: 0.0764 - accuracy: 0.9707\n",
      "Epoch 200/200\n",
      "5/5 [==============================] - 0s 2ms/step - loss: 0.0907 - accuracy: 0.9589\n"
     ]
    },
    {
     "data": {
      "text/plain": [
       "<keras.callbacks.History at 0x7f9f486b8460>"
      ]
     },
     "execution_count": 19,
     "metadata": {},
     "output_type": "execute_result"
    }
   ],
   "source": [
    "# Initialise the neural network as model\n",
    "model4 = Sequential()\n",
    "\n",
    "# Add the first hidden layer with 6 nodes. Input_dim refers to the number of columns/number of features in x_values or input_layer.\n",
    "# Activation refers to how the nodes/neurons are activated. We will use relu. Other common activations are 'sigmoid' and 'tanh'\n",
    "model4.add(Dense(6,input_dim=4,activation='relu'))\n",
    "\n",
    "# Add the hidden layer with 6 nodes. \n",
    "model4.add(Dense(6,activation='relu'))\n",
    "\n",
    "# Add the output layer with 3 nodes. The activation used has to be 'softmax'. Softmax is used when you are dealing with categorical outputs or targets. \n",
    "model4.add(Dense(3,activation='softmax'))\n",
    "\n",
    "# Compile the model together. The optimizer refers to the method to make the adjustment within the model. Loss refers to how the difference between the predicted out \n",
    "model4.compile(optimizer='adam',loss='categorical_crossentropy',metrics=['accuracy'])\n",
    "\n",
    "# Train model with x_values and y_values. Epochs refer to the number of times the full dataset will be used to train the model.\n",
    "# Shuffle = True tells the model to randomise the arrangement of the dataset after each epoch. This will allow the model to learn.\n",
    "model4.fit(x_values,y_values,epochs=200,shuffle=True)"
   ]
  },
  {
   "cell_type": "markdown",
   "metadata": {
    "id": "UxCq40Ss7t-h"
   },
   "source": [
    "You can observe from the printout that the accuracy score is now above 90%. Wow! It seems amazing that just increasing the number of epochs will allow the accuracy to increase. Do you think it is good that the model is so highly accuracte on the data that it has trained on? Just imagine, will a soccer player do well in a match if he/she only trains extremely hard on scoring a goal from a specific spot on the field? Or will a baker be able to bake a delicious cake based on a customer's request if he/she only learns how to bake a cake that is a specific flavour, shape and size?"
   ]
  },
  {
   "cell_type": "markdown",
   "metadata": {
    "id": "QmjUxUhp7t-i"
   },
   "source": [
    "The soccer player will not perform well in a match as he/she may not be able to shoot accurately from other parts of the field. The baker will not be able to bake a delicious cake as he/she will only know 1 specific flavour.\n",
    "\n",
    "The idea behind this question is the concept of overfitting. If the model overfits, it will not be able to generalise to properly predict data that it has not seen before."
   ]
  },
  {
   "cell_type": "markdown",
   "metadata": {
    "id": "FkiOE5Sw7t-i"
   },
   "source": [
    "This is the concept of overfitting and also applies to all machine learning techniques. Once the technique has fitted too acurrately on the dataset, the trained technique will not be able to generalise to other data that it has not seen before. As such, we usually only train the technique on a fraction of the dataset that we have and keep the remainder as a test or validation set to see if the model has overfitted. When training on the training set, the accuracy of the model on the test set should increase. However, at the point of overfitting, the accuracy on the test set will start to decrease. If you see that the test accuracy has begin to increase after a certain epoch, you should not train the model any further.\n",
    "\n",
    "Let us apply the split between a train and a test set to the dataset that we are using here."
   ]
  },
  {
   "cell_type": "markdown",
   "metadata": {
    "id": "jTqfPGj_7t-i"
   },
   "source": [
    "First, we need to decide how much data we want to keep and prevent the model from training on. Usually, we withold about 20% to 30% of the dataset. In this example, we will keep 25 percent of the dataset as the test/validation set. We can use the train_test_split function from the sklearn library. Try the code below."
   ]
  },
  {
   "cell_type": "code",
   "execution_count": 20,
   "metadata": {
    "id": "3vchEdJC7t-i"
   },
   "outputs": [
    {
     "name": "stdout",
     "output_type": "stream",
     "text": [
      "Number of rows in x_train: 112\n",
      "Number of rows in x_test: 38\n",
      "Number of rows in y_train: 112\n",
      "Number of rows in y_test: 38\n"
     ]
    }
   ],
   "source": [
    "from sklearn.model_selection import train_test_split\n",
    "\n",
    "# Extract out original x_values from the dataframe df. \n",
    "# We have to re-extract the x_values as the standardisation should only be based on the data that the model will train with.\n",
    "# Thus, we have to split the data first before standardising.\n",
    "x_values = df[['sepal_length','sepal_width','petal_length','petal_width']]\n",
    "\n",
    "# Test_size=0.25 indicates that 25% of the datapoints will be in x_test and y_test whereas 75% will be in x_train and y_train.\n",
    "# random_state=10 is used to ensure that the split is the same everytime you run the code below. \n",
    "# This is because the split is done randomly everytime. The same random_state is the only way to ensure the same split everytime.\n",
    "x_train, x_test, y_train, y_test = train_test_split(x_values,y_values,test_size=0.25,random_state=10)\n",
    "\n",
    "# Check the number of rows in x_train, x_test, y_train and y_test\n",
    "print(\"Number of rows in x_train:\", x_train.shape[0])\n",
    "print(\"Number of rows in x_test:\", x_test.shape[0])\n",
    "print(\"Number of rows in y_train:\", y_train.shape[0])\n",
    "print(\"Number of rows in y_test:\", y_test.shape[0])\n",
    "\n",
    "# We can now standardise the x values.\n",
    "# Initialise the StandardScaler\n",
    "standardise = StandardScaler()\n",
    "\n",
    "# Standardise the x_train values using .fit_transform\n",
    "x_train = standardise.fit_transform(x_train)\n",
    "\n",
    "# Standardise the x_test values using .transform. \n",
    "# There is no need to fit the data as the standardisation should be the same as that of x_train.\n",
    "x_test = standardise.transform(x_test)"
   ]
  },
  {
   "cell_type": "markdown",
   "metadata": {
    "id": "mt6Hbz2y7t-i"
   },
   "source": [
    "Write your own code to split the dataset into train and test/validation sets by witholding 20% of the dataset as test/validation set. Use x_train2, x_test2, y_train2 and y_test2 as your variables. Check that the number of rows are correct for each variable."
   ]
  },
  {
   "cell_type": "code",
   "execution_count": 21,
   "metadata": {
    "id": "nTSY9c_W7t-i"
   },
   "outputs": [
    {
     "name": "stdout",
     "output_type": "stream",
     "text": [
      "Number of rows in x_train2: 120\n",
      "Number of rows in x_test2: 30\n",
      "Number of rows in y_train2: 120\n",
      "Number of rows in y_test2: 30\n"
     ]
    }
   ],
   "source": [
    "x_train2, x_test2, y_train2, y_test2 = train_test_split(x_values, y_values, test_size=0.2, random_state=101)\n",
    "\n",
    "print(\"Number of rows in x_train2:\", x_train2.shape[0])\n",
    "print(\"Number of rows in x_test2:\", x_test2.shape[0])\n",
    "print(\"Number of rows in y_train2:\", y_train2.shape[0])\n",
    "print(\"Number of rows in y_test2:\", y_test2.shape[0])\n",
    "\n",
    "x_train2 = standardise.fit_transform(x_train2)\n",
    "x_test2 = standardise.transform(x_test2)"
   ]
  },
  {
   "cell_type": "markdown",
   "metadata": {
    "id": "Vadv1h0n7t-i"
   },
   "source": [
    "We shall now use x_train2, x_test2, y_train2 and y_test2 to train a neural network. Write a code to create a neural network that has 2 hidden layers with 6 nodes each and 1 output layer with 3 nodes. The activation for the input hidden layer is 'relu' wheras the activation for the output layer is 'softmax'. The opitmizer to use is 'adam' and the loss should be 'categorical_crossentropy'. The metrics should be 'accuracy'. Use model_val as the model variable. Print the model summary after you compile the model."
   ]
  },
  {
   "cell_type": "code",
   "execution_count": 22,
   "metadata": {
    "id": "GipKE9te7t-k"
   },
   "outputs": [],
   "source": [
    "model_val = Sequential()\n",
    "\n",
    "model_val.add(Dense(6 , input_dim = 4,activation = \"relu\"))\n",
    "model_val.add(Dense(6 , activation = \"relu\"))\n",
    "model_val.add(Dense(6 , activation = \"relu\"))\n",
    "model_val.add(Dense(3 , activation = \"softmax\"))\n",
    "\n",
    "\n",
    "model_val.compile(optimizer = \"adam\" , loss = \"categorical_crossentropy\" , metrics = \"accuracy\")"
   ]
  },
  {
   "cell_type": "markdown",
   "metadata": {
    "id": "1CuKkygk7t-k"
   },
   "source": [
    "We can now train model_val using x_train and y_train. We will also test the accuracy after each epoch using x_test and y_test. Try the code below!"
   ]
  },
  {
   "cell_type": "code",
   "execution_count": 23,
   "metadata": {
    "id": "9nZzDDQ37t-k"
   },
   "outputs": [
    {
     "name": "stdout",
     "output_type": "stream",
     "text": [
      "Epoch 1/50\n",
      "4/4 [==============================] - 2s 301ms/step - loss: 1.2015 - accuracy: 0.2987 - val_loss: 1.1964 - val_accuracy: 0.1667\n",
      "Epoch 2/50\n",
      "4/4 [==============================] - 0s 9ms/step - loss: 1.1509 - accuracy: 0.3842 - val_loss: 1.1865 - val_accuracy: 0.2000\n",
      "Epoch 3/50\n",
      "4/4 [==============================] - 0s 13ms/step - loss: 1.1801 - accuracy: 0.2935 - val_loss: 1.1760 - val_accuracy: 0.1667\n",
      "Epoch 4/50\n",
      "4/4 [==============================] - 0s 12ms/step - loss: 1.1577 - accuracy: 0.3154 - val_loss: 1.1663 - val_accuracy: 0.2000\n",
      "Epoch 5/50\n",
      "4/4 [==============================] - 0s 14ms/step - loss: 1.1441 - accuracy: 0.3121 - val_loss: 1.1573 - val_accuracy: 0.2000\n",
      "Epoch 6/50\n",
      "4/4 [==============================] - 0s 10ms/step - loss: 1.1305 - accuracy: 0.3371 - val_loss: 1.1492 - val_accuracy: 0.2333\n",
      "Epoch 7/50\n",
      "4/4 [==============================] - 0s 10ms/step - loss: 1.1256 - accuracy: 0.3215 - val_loss: 1.1411 - val_accuracy: 0.2333\n",
      "Epoch 8/50\n",
      "4/4 [==============================] - 0s 11ms/step - loss: 1.1049 - accuracy: 0.3537 - val_loss: 1.1338 - val_accuracy: 0.2333\n",
      "Epoch 9/50\n",
      "4/4 [==============================] - 0s 11ms/step - loss: 1.1115 - accuracy: 0.3131 - val_loss: 1.1268 - val_accuracy: 0.2667\n",
      "Epoch 10/50\n",
      "4/4 [==============================] - 0s 12ms/step - loss: 1.1013 - accuracy: 0.3681 - val_loss: 1.1212 - val_accuracy: 0.2667\n",
      "Epoch 11/50\n",
      "4/4 [==============================] - 0s 17ms/step - loss: 1.0934 - accuracy: 0.3702 - val_loss: 1.1165 - val_accuracy: 0.2667\n",
      "Epoch 12/50\n",
      "4/4 [==============================] - 0s 8ms/step - loss: 1.0905 - accuracy: 0.3462 - val_loss: 1.1121 - val_accuracy: 0.2667\n",
      "Epoch 13/50\n",
      "4/4 [==============================] - 0s 8ms/step - loss: 1.0834 - accuracy: 0.3619 - val_loss: 1.1082 - val_accuracy: 0.2667\n",
      "Epoch 14/50\n",
      "4/4 [==============================] - 0s 9ms/step - loss: 1.0761 - accuracy: 0.3817 - val_loss: 1.1044 - val_accuracy: 0.2667\n",
      "Epoch 15/50\n",
      "4/4 [==============================] - 0s 11ms/step - loss: 1.0721 - accuracy: 0.3535 - val_loss: 1.1005 - val_accuracy: 0.2667\n",
      "Epoch 16/50\n",
      "4/4 [==============================] - 0s 15ms/step - loss: 1.0774 - accuracy: 0.3204 - val_loss: 1.0966 - val_accuracy: 0.3000\n",
      "Epoch 17/50\n",
      "4/4 [==============================] - 0s 11ms/step - loss: 1.0634 - accuracy: 0.3675 - val_loss: 1.0934 - val_accuracy: 0.3000\n",
      "Epoch 18/50\n",
      "4/4 [==============================] - 0s 11ms/step - loss: 1.0608 - accuracy: 0.3592 - val_loss: 1.0904 - val_accuracy: 0.3333\n",
      "Epoch 19/50\n",
      "4/4 [==============================] - 0s 13ms/step - loss: 1.0573 - accuracy: 0.3675 - val_loss: 1.0877 - val_accuracy: 0.3333\n",
      "Epoch 20/50\n",
      "4/4 [==============================] - 0s 15ms/step - loss: 1.0463 - accuracy: 0.3515 - val_loss: 1.0854 - val_accuracy: 0.3667\n",
      "Epoch 21/50\n",
      "4/4 [==============================] - 0s 26ms/step - loss: 1.0424 - accuracy: 0.4377 - val_loss: 1.0834 - val_accuracy: 0.3667\n",
      "Epoch 22/50\n",
      "4/4 [==============================] - 0s 15ms/step - loss: 1.0359 - accuracy: 0.5015 - val_loss: 1.0813 - val_accuracy: 0.3667\n",
      "Epoch 23/50\n",
      "4/4 [==============================] - 0s 17ms/step - loss: 1.0498 - accuracy: 0.4677 - val_loss: 1.0786 - val_accuracy: 0.3667\n",
      "Epoch 24/50\n",
      "4/4 [==============================] - 0s 20ms/step - loss: 1.0249 - accuracy: 0.5533 - val_loss: 1.0764 - val_accuracy: 0.3667\n",
      "Epoch 25/50\n",
      "4/4 [==============================] - 0s 21ms/step - loss: 1.0185 - accuracy: 0.4931 - val_loss: 1.0738 - val_accuracy: 0.3667\n",
      "Epoch 26/50\n",
      "4/4 [==============================] - 0s 15ms/step - loss: 1.0252 - accuracy: 0.5469 - val_loss: 1.0713 - val_accuracy: 0.3667\n",
      "Epoch 27/50\n",
      "4/4 [==============================] - 0s 23ms/step - loss: 1.0265 - accuracy: 0.5654 - val_loss: 1.0689 - val_accuracy: 0.3667\n",
      "Epoch 28/50\n",
      "4/4 [==============================] - 0s 15ms/step - loss: 1.0172 - accuracy: 0.5548 - val_loss: 1.0666 - val_accuracy: 0.3333\n",
      "Epoch 29/50\n",
      "4/4 [==============================] - 0s 13ms/step - loss: 1.0042 - accuracy: 0.5860 - val_loss: 1.0642 - val_accuracy: 0.3333\n",
      "Epoch 30/50\n",
      "4/4 [==============================] - 0s 17ms/step - loss: 0.9917 - accuracy: 0.5956 - val_loss: 1.0618 - val_accuracy: 0.3667\n",
      "Epoch 31/50\n",
      "4/4 [==============================] - 0s 21ms/step - loss: 0.9939 - accuracy: 0.5762 - val_loss: 1.0591 - val_accuracy: 0.4000\n",
      "Epoch 32/50\n",
      "4/4 [==============================] - 0s 15ms/step - loss: 0.9914 - accuracy: 0.6275 - val_loss: 1.0561 - val_accuracy: 0.4333\n",
      "Epoch 33/50\n",
      "4/4 [==============================] - 0s 18ms/step - loss: 0.9967 - accuracy: 0.6194 - val_loss: 1.0531 - val_accuracy: 0.4333\n",
      "Epoch 34/50\n",
      "4/4 [==============================] - 0s 15ms/step - loss: 0.9919 - accuracy: 0.6181 - val_loss: 1.0498 - val_accuracy: 0.5000\n",
      "Epoch 35/50\n",
      "4/4 [==============================] - 0s 10ms/step - loss: 0.9750 - accuracy: 0.6542 - val_loss: 1.0465 - val_accuracy: 0.4667\n",
      "Epoch 36/50\n",
      "4/4 [==============================] - 0s 10ms/step - loss: 0.9729 - accuracy: 0.6062 - val_loss: 1.0428 - val_accuracy: 0.4667\n",
      "Epoch 37/50\n",
      "4/4 [==============================] - 0s 10ms/step - loss: 0.9662 - accuracy: 0.6400 - val_loss: 1.0385 - val_accuracy: 0.4667\n",
      "Epoch 38/50\n",
      "4/4 [==============================] - 0s 10ms/step - loss: 0.9747 - accuracy: 0.6750 - val_loss: 1.0342 - val_accuracy: 0.5000\n",
      "Epoch 39/50\n",
      "4/4 [==============================] - 0s 13ms/step - loss: 0.9780 - accuracy: 0.6371 - val_loss: 1.0297 - val_accuracy: 0.5000\n",
      "Epoch 40/50\n",
      "4/4 [==============================] - 0s 12ms/step - loss: 0.9433 - accuracy: 0.6390 - val_loss: 1.0249 - val_accuracy: 0.5000\n",
      "Epoch 41/50\n",
      "4/4 [==============================] - 0s 10ms/step - loss: 0.9554 - accuracy: 0.6615 - val_loss: 1.0198 - val_accuracy: 0.5000\n",
      "Epoch 42/50\n",
      "4/4 [==============================] - 0s 10ms/step - loss: 0.9336 - accuracy: 0.6813 - val_loss: 1.0142 - val_accuracy: 0.5000\n",
      "Epoch 43/50\n",
      "4/4 [==============================] - 0s 10ms/step - loss: 0.9298 - accuracy: 0.6677 - val_loss: 1.0085 - val_accuracy: 0.5333\n",
      "Epoch 44/50\n",
      "4/4 [==============================] - 0s 10ms/step - loss: 0.9405 - accuracy: 0.6365 - val_loss: 1.0026 - val_accuracy: 0.5333\n",
      "Epoch 45/50\n",
      "4/4 [==============================] - 0s 9ms/step - loss: 0.9074 - accuracy: 0.6425 - val_loss: 0.9964 - val_accuracy: 0.5333\n",
      "Epoch 46/50\n",
      "4/4 [==============================] - 0s 10ms/step - loss: 0.9112 - accuracy: 0.6875 - val_loss: 0.9900 - val_accuracy: 0.5333\n",
      "Epoch 47/50\n",
      "4/4 [==============================] - 0s 9ms/step - loss: 0.9100 - accuracy: 0.6529 - val_loss: 0.9834 - val_accuracy: 0.5333\n",
      "Epoch 48/50\n",
      "4/4 [==============================] - 0s 9ms/step - loss: 0.9030 - accuracy: 0.6344 - val_loss: 0.9762 - val_accuracy: 0.5667\n",
      "Epoch 49/50\n",
      "4/4 [==============================] - 0s 9ms/step - loss: 0.8945 - accuracy: 0.6502 - val_loss: 0.9688 - val_accuracy: 0.5667\n",
      "Epoch 50/50\n",
      "4/4 [==============================] - 0s 10ms/step - loss: 0.8847 - accuracy: 0.6675 - val_loss: 0.9611 - val_accuracy: 0.5667\n"
     ]
    },
    {
     "data": {
      "text/plain": [
       "<keras.callbacks.History at 0x7f9f4872cee0>"
      ]
     },
     "execution_count": 23,
     "metadata": {},
     "output_type": "execute_result"
    }
   ],
   "source": [
    "# Train model with x_values and y_values. \n",
    "# Epochs refer to the number of times the full dataset will be used to train the model.\n",
    "# Shuffle = True tells the model to randomise the arrangement of the dataset after each epoch. This will allow the model to learn.\n",
    "# Validation_data will allow us to input in the test/validation datasets. This will allow us to see the model accuracy on the test/validation set.\n",
    "model_val.fit(x_train2,y_train2,epochs=50,shuffle=True,validation_data=(x_test2,y_test2))"
   ]
  },
  {
   "cell_type": "markdown",
   "metadata": {
    "id": "rgjpu5Vl7t-k"
   },
   "source": [
    "Did you notice that the printout now shows the validation accuracy as well? Is the validation accuracy higher or lower than the training accuracy?"
   ]
  },
  {
   "cell_type": "markdown",
   "metadata": {
    "id": "JWGX8DpV7t-k"
   },
   "source": [
    "lower"
   ]
  },
  {
   "cell_type": "markdown",
   "metadata": {
    "id": "HT3Msjqe7t-k"
   },
   "source": [
    "We can also use the model to identify flower types for newly gathered data. For example, imagine that your friend has measured the sepal_length, sepal_width, petal_length and petal_width of some flowers and saved the data in a file called \"iris_predict.data\". Your friend wants to find the flower types for these flowers based on the values measured. Would you be able to use your model to help your friend? What are the flower types that your friend measured? Try the codes below!\n",
    "<font color=blue>Hint: You can use model.predict method to obtain the flower types for your friend. Additionally, the values returned by the .predict method will be the probability of each flower type that the model thinks should be assigned to each data row. As such, the higher the probablity, the more confident the model is that the flower type predicted is correct. For example, if the predicted values are very high in the second column, then the model thinks that the flower type is versicolor. You will also need to scale your data before obtaining the flower types. </font>"
   ]
  },
  {
   "cell_type": "code",
   "execution_count": 24,
   "metadata": {
    "id": "wTnEMBYI7t-k"
   },
   "outputs": [],
   "source": [
    "df2 = pd.read_csv(\"./iris_predict.data\",header=None)\n",
    "names = [\"sepal_length\", \"sepal_width\",\"petal_length\", \"petal_width\"]\n",
    "df2.columns = names"
   ]
  },
  {
   "cell_type": "code",
   "execution_count": 25,
   "metadata": {
    "id": "OlRdG0nz7t-l"
   },
   "outputs": [],
   "source": [
    "x_new = df2[['sepal_length','sepal_width','petal_length','petal_width']]"
   ]
  },
  {
   "cell_type": "code",
   "execution_count": 26,
   "metadata": {
    "id": "TkDDDhdI7t-l"
   },
   "outputs": [],
   "source": [
    "x_new_scale = standardise.transform(x_new)"
   ]
  },
  {
   "cell_type": "code",
   "execution_count": 27,
   "metadata": {
    "id": "Sqmmng_27t-l"
   },
   "outputs": [],
   "source": [
    "y_new = model_val.predict(x_new_scale)"
   ]
  },
  {
   "cell_type": "code",
   "execution_count": 28,
   "metadata": {
    "id": "dqR9Fcck7t-m"
   },
   "outputs": [
    {
     "name": "stdout",
     "output_type": "stream",
     "text": [
      "[[0.34860605 0.347053   0.3043409 ]\n",
      " [0.3402303  0.350335   0.30943465]\n",
      " [0.3489308  0.34722185 0.3038473 ]\n",
      " [0.20939085 0.13629268 0.6543165 ]\n",
      " [0.27356488 0.37202215 0.35441297]\n",
      " [0.23160008 0.25894573 0.5094542 ]\n",
      " [0.15055874 0.06974064 0.77970064]\n",
      " [0.1454352  0.0795565  0.7750083 ]\n",
      " [0.2346326  0.23254484 0.53282255]\n",
      " [0.25795895 0.37645438 0.3655868 ]]\n"
     ]
    }
   ],
   "source": [
    "print(y_new)"
   ]
  },
  {
   "cell_type": "markdown",
   "metadata": {
    "id": "DV0Z3u-x7t-m"
   },
   "source": [
    "What are the flower types for each data row? You can use the [argmax](https://www.geeksforgeeks.org/numpy-argmax-python/) function to help you identify the flower types from y_new. Try the code below!"
   ]
  },
  {
   "cell_type": "code",
   "execution_count": 29,
   "metadata": {
    "id": "EP532Xql7t-m"
   },
   "outputs": [
    {
     "name": "stdout",
     "output_type": "stream",
     "text": [
      "[0, 1, 0, 2, 1, 2, 2, 2, 2, 1]\n"
     ]
    }
   ],
   "source": [
    "flower_types = []\n",
    "for ii in range(0,y_new.shape[0]):\n",
    "    flower_types.append(np.argmax(y_new[ii,:]))\n",
    "print(flower_types)"
   ]
  },
  {
   "cell_type": "markdown",
   "metadata": {
    "id": "nRW4LRj-7t-n"
   },
   "source": [
    "Are you able to match the flower type numbers back to the different types (Setosa, Versicolor, Virginica)?"
   ]
  },
  {
   "cell_type": "markdown",
   "metadata": {
    "id": "HKaojq9k7t-o"
   },
   "source": [
    "YES"
   ]
  },
  {
   "cell_type": "markdown",
   "metadata": {
    "id": "g3Qg0jai7t-o"
   },
   "source": [
    "Congrats! You have successfully learnt how to create an artificial neural network model and trained it. Artficial neural networks are extremely powerful tools that can be used on very large datasets. For example, if you have a couple of hundred columns/features and over 100000 data points, it may be beneficial to use artificial neural networks instead of other machine learning techniques. Just remember, there are no strict rules on the number of nodes in the hidden layer or the number of hidden layers. Experiment with different neural networks to see which one provides the best result for your dataset."
   ]
  }
 ],
 "metadata": {
  "colab": {
   "name": "(3) [Jupyter - Youth] Module 17.ipynb",
   "provenance": []
  },
  "kernelspec": {
   "display_name": "Python 3",
   "language": "python",
   "name": "python3"
  },
  "language_info": {
   "codemirror_mode": {
    "name": "ipython",
    "version": 3
   },
   "file_extension": ".py",
   "mimetype": "text/x-python",
   "name": "python",
   "nbconvert_exporter": "python",
   "pygments_lexer": "ipython3",
   "version": "3.8.3"
  }
 },
 "nbformat": 4,
 "nbformat_minor": 1
}
